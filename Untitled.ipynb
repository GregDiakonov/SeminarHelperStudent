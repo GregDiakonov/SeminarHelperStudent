{
 "cells": [
  {
   "cell_type": "code",
   "execution_count": 1,
   "id": "7c2f5141-f08e-47f7-b683-278c70de2ecf",
   "metadata": {},
   "outputs": [
    {
     "ename": "NameError",
     "evalue": "name 'hbr' is not defined",
     "output_type": "error",
     "traceback": [
      "\u001b[0;31m---------------------------------------------------------------------------\u001b[0m",
      "\u001b[0;31mNameError\u001b[0m                                 Traceback (most recent call last)",
      "Cell \u001b[0;32mIn[1], line 1\u001b[0m\n\u001b[0;32m----> 1\u001b[0m \u001b[43mhbr\u001b[49m\n",
      "\u001b[0;31mNameError\u001b[0m: name 'hbr' is not defined"
     ]
    }
   ],
   "source": [
    "hbr\n",
    " "
   ]
  },
  {
   "cell_type": "code",
   "execution_count": 2,
   "id": "ed25258b-4b2e-465f-8715-a362ef2a95b6",
   "metadata": {},
   "outputs": [
    {
     "data": {
      "text/plain": [
       "2"
      ]
     },
     "execution_count": 2,
     "metadata": {},
     "output_type": "execute_result"
    }
   ],
   "source": [
    "hbr = 2\n",
    "hbr"
   ]
  },
  {
   "cell_type": "code",
   "execution_count": null,
   "id": "1b99ce20-8b81-4dd1-9e7a-6706011878ef",
   "metadata": {},
   "outputs": [],
   "source": []
  }
 ],
 "metadata": {
  "kernelspec": {
   "display_name": "Python 3 (ipykernel)",
   "language": "python",
   "name": "python3"
  },
  "language_info": {
   "codemirror_mode": {
    "name": "ipython",
    "version": 3
   },
   "file_extension": ".py",
   "mimetype": "text/x-python",
   "name": "python",
   "nbconvert_exporter": "python",
   "pygments_lexer": "ipython3",
   "version": "3.12.5"
  }
 },
 "nbformat": 4,
 "nbformat_minor": 5
}
